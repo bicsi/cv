{
 "cells": [
  {
   "cell_type": "code",
   "execution_count": 20,
   "metadata": {},
   "outputs": [],
   "source": [
    "import tensorflow as tf\n",
    "import tensorflow.keras as tfk\n",
    "import tensorflow.keras.layers as tfkl\n",
    "import numpy as np\n",
    "import cv2 as cv\n",
    "import matplotlib.pyplot as plt\n",
    "from sklearn.model_selection import train_test_split\n",
    "from sklearn.metrics import accuracy_score, precision_score, recall_score, f1_score"
   ]
  },
  {
   "cell_type": "code",
   "execution_count": 2,
   "metadata": {},
   "outputs": [],
   "source": [
    "def process_file(file):\n",
    "    classes = []\n",
    "    names = []\n",
    "    with open(file, 'r') as f:\n",
    "        header = True\n",
    "        for line in f:\n",
    "            if header:\n",
    "                header = False\n",
    "                continue\n",
    "            n, c = line.split(',')\n",
    "            names.append(n)\n",
    "            classes.append(c)\n",
    "    return np.array(names), np.array(classes)"
   ]
  },
  {
   "cell_type": "code",
   "execution_count": 3,
   "metadata": {},
   "outputs": [
    {
     "name": "stdout",
     "output_type": "stream",
     "text": [
      "17000 training examples.\n",
      "5149 testing examples.\n"
     ]
    }
   ],
   "source": [
    "names, labels = process_file('train_labels.txt')\n",
    "labels = np.array([int(x) for x in labels])\n",
    "names = np.array(names)\n",
    "eval_names, _ = process_file('sample_submission.txt')\n",
    "print(f\"{len(names)} training examples.\")\n",
    "print(f\"{len(eval_names)} testing examples.\")"
   ]
  },
  {
   "cell_type": "code",
   "execution_count": 4,
   "metadata": {},
   "outputs": [],
   "source": [
    "def read_image(name):\n",
    "    img = cv.imread(f\"data/{name}.png\")\n",
    "    return img"
   ]
  },
  {
   "cell_type": "code",
   "execution_count": 5,
   "metadata": {},
   "outputs": [
    {
     "name": "stdout",
     "output_type": "stream",
     "text": [
      "(17000, 224, 224, 3)\n"
     ]
    }
   ],
   "source": [
    "images = np.array([read_image(name) for name in names])\n",
    "print(images.shape)"
   ]
  },
  {
   "cell_type": "code",
   "execution_count": 15,
   "metadata": {},
   "outputs": [
    {
     "name": "stdout",
     "output_type": "stream",
     "text": [
      "Model: \"sequential_2\"\n",
      "_________________________________________________________________\n",
      "Layer (type)                 Output Shape              Param #   \n",
      "=================================================================\n",
      "mobilenet_0.50_224 (Model)   (None, 512)               829536    \n",
      "_________________________________________________________________\n",
      "dense_4 (Dense)              (None, 128)               65664     \n",
      "_________________________________________________________________\n",
      "dense_5 (Dense)              (None, 1)                 129       \n",
      "=================================================================\n",
      "Total params: 895,329\n",
      "Trainable params: 65,793\n",
      "Non-trainable params: 829,536\n",
      "_________________________________________________________________\n",
      "None\n"
     ]
    }
   ],
   "source": [
    "mobilenet_model = tfk.applications.mobilenet.MobileNet(\n",
    "    alpha=0.5, include_top=False, pooling='avg',\n",
    "    input_shape=(224, 224, 3))\n",
    "for layer in mobilenet_model.layers:\n",
    "    layer.trainable = False\n",
    "    \n",
    "model = tfk.Sequential([\n",
    "    mobilenet_model,\n",
    "    tfkl.Dense(128, activation='relu'),\n",
    "    tfkl.Dense(1, activation='sigmoid'),\n",
    "])\n",
    "\n",
    "print(model.summary())"
   ]
  },
  {
   "cell_type": "code",
   "execution_count": null,
   "metadata": {},
   "outputs": [
    {
     "name": "stdout",
     "output_type": "stream",
     "text": [
      "Train on 13770 samples, validate on 1530 samples\n",
      " 5920/13770 [===========>..................] - ETA: 1:47 - loss: 0.3152 - precision: 0.6330 - recall: 0.2971"
     ]
    }
   ],
   "source": [
    "def preprocess_input(X):\n",
    "    return tfk.applications.mobilenet.preprocess_input(X)\n",
    "\n",
    "def get_class_weight(p=0.23112):\n",
    "    return {0: p, 1: 1 - p}\n",
    "\n",
    "# for p in np.linspace(0.23112, 0.23113, 20):\n",
    "#     clf = SVC(class_weight=get_class_weight(p))\n",
    "#     clf.fit(preprocess(emb_train)[:1000], labels_train[:1000])\n",
    "#     print(p, f1_score(labels_val, clf.predict(preprocess(emb_val))))\n",
    "model.compile(\n",
    "    optimizer='adam', \n",
    "    loss='binary_crossentropy', \n",
    "    class_weight=get_class_weight(),\n",
    "    metrics=[tfk.metrics.Precision(), tfk.metrics.Recall()]\n",
    ")\n",
    "model.fit(preprocess_input(images_train), labels_train, validation_split=0.1)\n",
    "print(p, f1_score(labels_val, model.predict(preprocess_input(images_val))))"
   ]
  },
  {
   "cell_type": "code",
   "execution_count": null,
   "metadata": {},
   "outputs": [],
   "source": []
  }
 ],
 "metadata": {
  "kernelspec": {
   "display_name": "Python 3",
   "language": "python",
   "name": "python3"
  },
  "language_info": {
   "codemirror_mode": {
    "name": "ipython",
    "version": 3
   },
   "file_extension": ".py",
   "mimetype": "text/x-python",
   "name": "python",
   "nbconvert_exporter": "python",
   "pygments_lexer": "ipython3",
   "version": "3.7.5"
  }
 },
 "nbformat": 4,
 "nbformat_minor": 2
}
