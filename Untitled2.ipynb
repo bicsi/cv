{
 "cells": [
  {
   "cell_type": "code",
   "execution_count": 1,
   "metadata": {},
   "outputs": [],
   "source": [
    "import tensorflow as tf\n",
    "import tensorflow.keras as tfk\n",
    "import tensorflow.keras.layers as tfkl\n",
    "import numpy as np\n",
    "import cv2 as cv\n",
    "import matplotlib.pyplot as plt\n",
    "from sklearn.model_selection import train_test_split\n",
    "from sklearn.metrics import accuracy_score, precision_score, recall_score, f1_score"
   ]
  },
  {
   "cell_type": "code",
   "execution_count": 2,
   "metadata": {},
   "outputs": [],
   "source": [
    "def process_file(file):\n",
    "    classes = []\n",
    "    names = []\n",
    "    with open(file, 'r') as f:\n",
    "        header = True\n",
    "        for line in f:\n",
    "            if header:\n",
    "                header = False\n",
    "                continue\n",
    "            n, c = line.split(',')\n",
    "            names.append(n)\n",
    "            classes.append(c)\n",
    "    return np.array(names), np.array(classes)"
   ]
  },
  {
   "cell_type": "code",
   "execution_count": 3,
   "metadata": {},
   "outputs": [
    {
     "name": "stdout",
     "output_type": "stream",
     "text": [
      "17000 training examples.\n",
      "5149 testing examples.\n"
     ]
    }
   ],
   "source": [
    "names, labels = process_file('train_labels.txt')\n",
    "labels = np.array([int(x) for x in labels])\n",
    "names = np.array(names)\n",
    "eval_names, _ = process_file('sample_submission.txt')\n",
    "print(f\"{len(names)} training examples.\")\n",
    "print(f\"{len(eval_names)} testing examples.\")"
   ]
  },
  {
   "cell_type": "code",
   "execution_count": 4,
   "metadata": {},
   "outputs": [],
   "source": [
    "def read_image(name):\n",
    "    img = cv.imread(f\"data/{name}.png\")\n",
    "    return img"
   ]
  },
  {
   "cell_type": "code",
   "execution_count": 5,
   "metadata": {},
   "outputs": [
    {
     "name": "stdout",
     "output_type": "stream",
     "text": [
      "(17000, 224, 224, 3)\n"
     ]
    }
   ],
   "source": [
    "images = np.array([read_image(name) for name in names])\n",
    "print(images.shape)"
   ]
  },
  {
   "cell_type": "code",
   "execution_count": 52,
   "metadata": {},
   "outputs": [
    {
     "name": "stdout",
     "output_type": "stream",
     "text": [
      "Model: \"sequential_8\"\n",
      "_________________________________________________________________\n",
      "Layer (type)                 Output Shape              Param #   \n",
      "=================================================================\n",
      "mobilenet_0.50_224 (Model)   (None, 512)               829536    \n",
      "_________________________________________________________________\n",
      "dropout_7 (Dropout)          (None, 512)               0         \n",
      "_________________________________________________________________\n",
      "dense_16 (Dense)             (None, 1)                 513       \n",
      "=================================================================\n",
      "Total params: 830,049\n",
      "Trainable params: 615,105\n",
      "Non-trainable params: 214,944\n",
      "_________________________________________________________________\n",
      "None\n"
     ]
    }
   ],
   "source": [
    "mobilenet_model = tfk.applications.xception.MobileNet(\n",
    "    alpha=0.5, include_top=False, pooling='avg',\n",
    "    input_shape=(224, 224, 3))\n",
    "should_train = False\n",
    "for layer in mobilenet_model.layers:\n",
    "    if \"_9\" in layer.name:\n",
    "        should_train = True\n",
    "    layer.trainable = should_train\n",
    "    \n",
    "    if \"bn\" in layer.name:\n",
    "        layer.trainable = True\n",
    "        layer.momentum = 0.9\n",
    "    \n",
    "model = tfk.Sequential([\n",
    "    mobilenet_model,\n",
    "    tfkl.Dropout(0.5),\n",
    "    tfkl.Dense(1, activation='sigmoid'),\n",
    "])\n",
    "\n",
    "print(model.summary())"
   ]
  },
  {
   "cell_type": "code",
   "execution_count": 53,
   "metadata": {},
   "outputs": [],
   "source": [
    "def precision(y_true, y_pred):\n",
    "    import tensorflow.keras.backend as K\n",
    "    y_pred = K.round(y_pred)\n",
    "    tp = K.sum(K.cast(y_true*y_pred, 'float'), axis=0)\n",
    "    tn = K.sum(K.cast((1-y_true)*(1-y_pred), 'float'), axis=0)\n",
    "    fp = K.sum(K.cast((1-y_true)*y_pred, 'float'), axis=0)\n",
    "    fn = K.sum(K.cast(y_true*(1-y_pred), 'float'), axis=0)\n",
    "\n",
    "    return tp / (tp + fp + K.epsilon())\n",
    "\n",
    "def recall(y_true, y_pred):\n",
    "    import tensorflow.keras.backend as K\n",
    "    y_pred = K.round(y_pred)\n",
    "    tp = K.sum(K.cast(y_true*y_pred, 'float'), axis=0)\n",
    "    tn = K.sum(K.cast((1-y_true)*(1-y_pred), 'float'), axis=0)\n",
    "    fp = K.sum(K.cast((1-y_true)*y_pred, 'float'), axis=0)\n",
    "    fn = K.sum(K.cast(y_true*(1-y_pred), 'float'), axis=0)\n",
    "\n",
    "    return tp / (tp + fn + K.epsilon())\n",
    "    \n",
    "def f1(y_true, y_pred):\n",
    "    import tensorflow.keras.backend as K\n",
    "    \n",
    "    p = precision(y_true, y_pred)\n",
    "    r = recall(y_true, y_pred)\n",
    "\n",
    "    f1 = 2*p*r / (p+r+K.epsilon())\n",
    "    f1 = tf.where(tf.math.is_nan(f1), tf.zeros_like(f1), f1)\n",
    "    return K.mean(f1)\n",
    "\n",
    "def f1_loss(y_true, y_pred):\n",
    "    import tensorflow.keras.backend as K\n",
    "    tp = K.sum(y_true*y_pred, axis=0)\n",
    "    tn = K.sum((1-y_true)*(1-y_pred), axis=0)\n",
    "    fp = K.sum((1-y_true)*y_pred, axis=0)\n",
    "    fn = K.sum(y_true*(1-y_pred), axis=0)\n",
    "\n",
    "    p = tp / (tp + fp + K.epsilon())\n",
    "    r = tp / (tp + fn + K.epsilon())\n",
    "    \n",
    "    print(p)\n",
    "    print(r)\n",
    "\n",
    "    f1 = 2*p*r / (p+r+K.epsilon())\n",
    "    f1 = tf.where(tf.math.is_nan(f1), tf.zeros_like(f1), f1)\n",
    "    ret = 1 - K.mean(f1)\n",
    "    print(ret)\n",
    "    return ret"
   ]
  },
  {
   "cell_type": "code",
   "execution_count": 58,
   "metadata": {},
   "outputs": [],
   "source": [
    "def preprocess_input(X):\n",
    "    return tfk.applications.mobilenet.preprocess_input(X)\n",
    "\n",
    "def get_class_weight(p=0.23112):\n",
    "    return {0: p, 1: 1 - p}\n",
    "\n",
    "X = preprocess_input(images)\n",
    "y = labels.astype(np.float32)\n",
    "X_train, X_val, y_train, y_val = train_test_split(X, y, test_size=0.1)\n",
    "train_datagen = tfk.preprocessing.image.ImageDataGenerator(\n",
    "    shear_range=0.,\n",
    "    zoom_range=0.05,\n",
    "    rotation_range=180,\n",
    "    width_shift_range=0.05,\n",
    "    height_shift_range=0.05,\n",
    "    horizontal_flip=True,\n",
    "    fill_mode='constant',\n",
    "    #featurewise_center=True,\n",
    "    #featurewise_std_normalization=True,\n",
    "    cval=0,\n",
    ")\n",
    "val_datagen = tfk.preprocessing.image.ImageDataGenerator(\n",
    "    shear_range=0.,\n",
    "    zoom_range=0.05,\n",
    "    rotation_range=90,\n",
    "    width_shift_range=0.05,\n",
    "    height_shift_range=0.05,\n",
    "    horizontal_flip=True,\n",
    "    fill_mode='constant',\n",
    "    #featurewise_center=True,\n",
    "    #featurewise_std_normalization=True,\n",
    "    cval=0,\n",
    ")\n",
    "train_generator = train_datagen.flow(X_train[:3000], y_train[:3000], batch_size=32)\n",
    "val_generator = val_datagen.flow(X_val, y_val, batch_size=32)\n"
   ]
  },
  {
   "cell_type": "code",
   "execution_count": null,
   "metadata": {},
   "outputs": [],
   "source": [
    "# for p in np.linspace(0.23112, 0.23113, 20):\n",
    "#     clf = SVC(class_weight=get_class_weight(p))\n",
    "#     clf.fit(preprocess(emb_train)[:1000], labels_train[:1000])\n",
    "#     print(p, f1_score(labels_val, clf.predict(preprocess(emb_val))))\n",
    "model.compile(\n",
    "    optimizer='adam', \n",
    "    loss='binary_crossentropy', \n",
    "    class_weight=get_class_weight(),\n",
    "    metrics=[precision, recall, f1]\n",
    ")\n",
    "model.fit_generator(\n",
    "    train_generator,\n",
    "    validation_data=val_generator,\n",
    "    epochs=100,\n",
    ")"
   ]
  },
  {
   "cell_type": "code",
   "execution_count": null,
   "metadata": {},
   "outputs": [],
   "source": []
  }
 ],
 "metadata": {
  "kernelspec": {
   "display_name": "Python 3",
   "language": "python",
   "name": "python3"
  },
  "language_info": {
   "codemirror_mode": {
    "name": "ipython",
    "version": 3
   },
   "file_extension": ".py",
   "mimetype": "text/x-python",
   "name": "python",
   "nbconvert_exporter": "python",
   "pygments_lexer": "ipython3",
   "version": "3.7.5"
  }
 },
 "nbformat": 4,
 "nbformat_minor": 2
}
